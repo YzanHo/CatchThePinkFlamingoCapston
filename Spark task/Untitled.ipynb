{
 "cells": [
  {
   "cell_type": "markdown",
   "id": "05944490",
   "metadata": {},
   "source": [
    "# Clustering game data with Spark MLlib BY : Yazan Ho"
   ]
  },
  {
   "cell_type": "code",
   "execution_count": 1,
   "id": "1347a53e",
   "metadata": {},
   "outputs": [],
   "source": [
    "import pandas as pd\n",
    "from pyspark.mllib.clustering import KMeans, KMeansModel\n",
    "from numpy import array"
   ]
  },
  {
   "cell_type": "code",
   "execution_count": 2,
   "id": "1d176e14",
   "metadata": {},
   "outputs": [
    {
     "data": {
      "text/plain": [
       "'C:\\\\Program Files\\\\spark\\\\spark-3.2.1-bin-hadoop3.2'"
      ]
     },
     "execution_count": 2,
     "metadata": {},
     "output_type": "execute_result"
    }
   ],
   "source": [
    "import findspark\n",
    "findspark.init()\n",
    "findspark.find()"
   ]
  },
  {
   "cell_type": "markdown",
   "id": "35a6bd74",
   "metadata": {},
   "source": [
    "## Step 1: Attribute Selection\n",
    "\n",
    "### Import Data\n",
    "\n",
    "First read the contents of the file ad-clicks.csv. The following commands read in the CSV file in a table format and removes any extra whitespaces. So, if the CSV contained ' userid  ' it becomes 'userid'. "
   ]
  },
  {
   "cell_type": "code",
   "execution_count": 3,
   "id": "7bc46e64",
   "metadata": {},
   "outputs": [],
   "source": [
    "adclicksDF = pd.read_csv('C:/Users/ASUS ROG/Desktop/Big Data course/Capston Final Project/big_data_capstone_datasets_and_scripts/big_data_capstone_datasets_and_scripts/flamingo-data/ad-clicks.csv')\n",
    "adclicksDF = adclicksDF.rename(columns=lambda x: x.strip()) #remove whitespaces from headers"
   ]
  },
  {
   "cell_type": "code",
   "execution_count": 4,
   "id": "d2d283fa",
   "metadata": {},
   "outputs": [
    {
     "data": {
      "text/html": [
       "<div>\n",
       "<style scoped>\n",
       "    .dataframe tbody tr th:only-of-type {\n",
       "        vertical-align: middle;\n",
       "    }\n",
       "\n",
       "    .dataframe tbody tr th {\n",
       "        vertical-align: top;\n",
       "    }\n",
       "\n",
       "    .dataframe thead th {\n",
       "        text-align: right;\n",
       "    }\n",
       "</style>\n",
       "<table border=\"1\" class=\"dataframe\">\n",
       "  <thead>\n",
       "    <tr style=\"text-align: right;\">\n",
       "      <th></th>\n",
       "      <th>timestamp</th>\n",
       "      <th>txId</th>\n",
       "      <th>userSessionId</th>\n",
       "      <th>teamId</th>\n",
       "      <th>userId</th>\n",
       "      <th>adId</th>\n",
       "      <th>adCategory</th>\n",
       "    </tr>\n",
       "  </thead>\n",
       "  <tbody>\n",
       "    <tr>\n",
       "      <th>0</th>\n",
       "      <td>2016-05-26 15:13:22</td>\n",
       "      <td>5974</td>\n",
       "      <td>5809</td>\n",
       "      <td>27</td>\n",
       "      <td>611</td>\n",
       "      <td>2</td>\n",
       "      <td>electronics</td>\n",
       "    </tr>\n",
       "    <tr>\n",
       "      <th>1</th>\n",
       "      <td>2016-05-26 15:17:24</td>\n",
       "      <td>5976</td>\n",
       "      <td>5705</td>\n",
       "      <td>18</td>\n",
       "      <td>1874</td>\n",
       "      <td>21</td>\n",
       "      <td>movies</td>\n",
       "    </tr>\n",
       "    <tr>\n",
       "      <th>2</th>\n",
       "      <td>2016-05-26 15:22:52</td>\n",
       "      <td>5978</td>\n",
       "      <td>5791</td>\n",
       "      <td>53</td>\n",
       "      <td>2139</td>\n",
       "      <td>25</td>\n",
       "      <td>computers</td>\n",
       "    </tr>\n",
       "    <tr>\n",
       "      <th>3</th>\n",
       "      <td>2016-05-26 15:22:57</td>\n",
       "      <td>5973</td>\n",
       "      <td>5756</td>\n",
       "      <td>63</td>\n",
       "      <td>212</td>\n",
       "      <td>10</td>\n",
       "      <td>fashion</td>\n",
       "    </tr>\n",
       "    <tr>\n",
       "      <th>4</th>\n",
       "      <td>2016-05-26 15:22:58</td>\n",
       "      <td>5980</td>\n",
       "      <td>5920</td>\n",
       "      <td>9</td>\n",
       "      <td>1027</td>\n",
       "      <td>20</td>\n",
       "      <td>clothing</td>\n",
       "    </tr>\n",
       "  </tbody>\n",
       "</table>\n",
       "</div>"
      ],
      "text/plain": [
       "             timestamp  txId  userSessionId  teamId  userId  adId   adCategory\n",
       "0  2016-05-26 15:13:22  5974           5809      27     611     2  electronics\n",
       "1  2016-05-26 15:17:24  5976           5705      18    1874    21       movies\n",
       "2  2016-05-26 15:22:52  5978           5791      53    2139    25    computers\n",
       "3  2016-05-26 15:22:57  5973           5756      63     212    10      fashion\n",
       "4  2016-05-26 15:22:58  5980           5920       9    1027    20     clothing"
      ]
     },
     "execution_count": 4,
     "metadata": {},
     "output_type": "execute_result"
    }
   ],
   "source": [
    "adclicksDF.head(5) # Display first 5 rows"
   ]
  },
  {
   "cell_type": "markdown",
   "id": "0346c33b",
   "metadata": {},
   "source": [
    "Next, add an extra column to the ad-clicks table and make it equal to 1. We do so to record the fact that each row is 1 ad-click. You will see how this will become useful when we sum up this column to find how many ads did a user click."
   ]
  },
  {
   "cell_type": "code",
   "execution_count": 5,
   "id": "1d2f5d2c",
   "metadata": {},
   "outputs": [],
   "source": [
    "adclicksDF['adCount'] = 1"
   ]
  },
  {
   "cell_type": "markdown",
   "id": "8a65b0fc",
   "metadata": {},
   "source": [
    "Let us display the first 5 lines of adclicksDF and see if a new column has been added:"
   ]
  },
  {
   "cell_type": "code",
   "execution_count": 6,
   "id": "c9ec9784",
   "metadata": {},
   "outputs": [
    {
     "data": {
      "text/html": [
       "<div>\n",
       "<style scoped>\n",
       "    .dataframe tbody tr th:only-of-type {\n",
       "        vertical-align: middle;\n",
       "    }\n",
       "\n",
       "    .dataframe tbody tr th {\n",
       "        vertical-align: top;\n",
       "    }\n",
       "\n",
       "    .dataframe thead th {\n",
       "        text-align: right;\n",
       "    }\n",
       "</style>\n",
       "<table border=\"1\" class=\"dataframe\">\n",
       "  <thead>\n",
       "    <tr style=\"text-align: right;\">\n",
       "      <th></th>\n",
       "      <th>timestamp</th>\n",
       "      <th>txId</th>\n",
       "      <th>userSessionId</th>\n",
       "      <th>teamId</th>\n",
       "      <th>userId</th>\n",
       "      <th>adId</th>\n",
       "      <th>adCategory</th>\n",
       "      <th>adCount</th>\n",
       "    </tr>\n",
       "  </thead>\n",
       "  <tbody>\n",
       "    <tr>\n",
       "      <th>0</th>\n",
       "      <td>2016-05-26 15:13:22</td>\n",
       "      <td>5974</td>\n",
       "      <td>5809</td>\n",
       "      <td>27</td>\n",
       "      <td>611</td>\n",
       "      <td>2</td>\n",
       "      <td>electronics</td>\n",
       "      <td>1</td>\n",
       "    </tr>\n",
       "    <tr>\n",
       "      <th>1</th>\n",
       "      <td>2016-05-26 15:17:24</td>\n",
       "      <td>5976</td>\n",
       "      <td>5705</td>\n",
       "      <td>18</td>\n",
       "      <td>1874</td>\n",
       "      <td>21</td>\n",
       "      <td>movies</td>\n",
       "      <td>1</td>\n",
       "    </tr>\n",
       "    <tr>\n",
       "      <th>2</th>\n",
       "      <td>2016-05-26 15:22:52</td>\n",
       "      <td>5978</td>\n",
       "      <td>5791</td>\n",
       "      <td>53</td>\n",
       "      <td>2139</td>\n",
       "      <td>25</td>\n",
       "      <td>computers</td>\n",
       "      <td>1</td>\n",
       "    </tr>\n",
       "    <tr>\n",
       "      <th>3</th>\n",
       "      <td>2016-05-26 15:22:57</td>\n",
       "      <td>5973</td>\n",
       "      <td>5756</td>\n",
       "      <td>63</td>\n",
       "      <td>212</td>\n",
       "      <td>10</td>\n",
       "      <td>fashion</td>\n",
       "      <td>1</td>\n",
       "    </tr>\n",
       "    <tr>\n",
       "      <th>4</th>\n",
       "      <td>2016-05-26 15:22:58</td>\n",
       "      <td>5980</td>\n",
       "      <td>5920</td>\n",
       "      <td>9</td>\n",
       "      <td>1027</td>\n",
       "      <td>20</td>\n",
       "      <td>clothing</td>\n",
       "      <td>1</td>\n",
       "    </tr>\n",
       "  </tbody>\n",
       "</table>\n",
       "</div>"
      ],
      "text/plain": [
       "             timestamp  txId  userSessionId  teamId  userId  adId  \\\n",
       "0  2016-05-26 15:13:22  5974           5809      27     611     2   \n",
       "1  2016-05-26 15:17:24  5976           5705      18    1874    21   \n",
       "2  2016-05-26 15:22:52  5978           5791      53    2139    25   \n",
       "3  2016-05-26 15:22:57  5973           5756      63     212    10   \n",
       "4  2016-05-26 15:22:58  5980           5920       9    1027    20   \n",
       "\n",
       "    adCategory  adCount  \n",
       "0  electronics        1  \n",
       "1       movies        1  \n",
       "2    computers        1  \n",
       "3      fashion        1  \n",
       "4     clothing        1  "
      ]
     },
     "execution_count": 6,
     "metadata": {},
     "output_type": "execute_result"
    }
   ],
   "source": [
    "adclicksDF.head(5)"
   ]
  },
  {
   "cell_type": "markdown",
   "id": "daa98ece",
   "metadata": {},
   "source": [
    "Then read the contents of the file buy-clicks.csv. \n",
    "The following commands read in the CSV file in a table format and removes any extra whitespaces. \n",
    "So, if the CSV contained ' userid ' it becomes 'userid'."
   ]
  },
  {
   "cell_type": "code",
   "execution_count": 7,
   "id": "df9dcb07",
   "metadata": {},
   "outputs": [],
   "source": [
    "buyClicksDF = pd.read_csv('C:/Users/ASUS ROG/Desktop/Big Data course/Capston Final Project/big_data_capstone_datasets_and_scripts/big_data_capstone_datasets_and_scripts/flamingo-data/buy-clicks.csv')\n",
    "buyClicksDF = buyClicksDF.rename(columns=lambda x: x.strip()) #remove whitespaces from headers"
   ]
  },
  {
   "cell_type": "code",
   "execution_count": 8,
   "id": "3d0a26c8",
   "metadata": {},
   "outputs": [
    {
     "data": {
      "text/html": [
       "<div>\n",
       "<style scoped>\n",
       "    .dataframe tbody tr th:only-of-type {\n",
       "        vertical-align: middle;\n",
       "    }\n",
       "\n",
       "    .dataframe tbody tr th {\n",
       "        vertical-align: top;\n",
       "    }\n",
       "\n",
       "    .dataframe thead th {\n",
       "        text-align: right;\n",
       "    }\n",
       "</style>\n",
       "<table border=\"1\" class=\"dataframe\">\n",
       "  <thead>\n",
       "    <tr style=\"text-align: right;\">\n",
       "      <th></th>\n",
       "      <th>timestamp</th>\n",
       "      <th>txId</th>\n",
       "      <th>userSessionId</th>\n",
       "      <th>team</th>\n",
       "      <th>userId</th>\n",
       "      <th>buyId</th>\n",
       "      <th>price</th>\n",
       "    </tr>\n",
       "  </thead>\n",
       "  <tbody>\n",
       "    <tr>\n",
       "      <th>0</th>\n",
       "      <td>2016-05-26 15:36:54</td>\n",
       "      <td>6004</td>\n",
       "      <td>5820</td>\n",
       "      <td>9</td>\n",
       "      <td>1300</td>\n",
       "      <td>2</td>\n",
       "      <td>3.0</td>\n",
       "    </tr>\n",
       "    <tr>\n",
       "      <th>1</th>\n",
       "      <td>2016-05-26 15:36:54</td>\n",
       "      <td>6005</td>\n",
       "      <td>5775</td>\n",
       "      <td>35</td>\n",
       "      <td>868</td>\n",
       "      <td>4</td>\n",
       "      <td>10.0</td>\n",
       "    </tr>\n",
       "    <tr>\n",
       "      <th>2</th>\n",
       "      <td>2016-05-26 15:36:54</td>\n",
       "      <td>6006</td>\n",
       "      <td>5679</td>\n",
       "      <td>97</td>\n",
       "      <td>819</td>\n",
       "      <td>5</td>\n",
       "      <td>20.0</td>\n",
       "    </tr>\n",
       "    <tr>\n",
       "      <th>3</th>\n",
       "      <td>2016-05-26 16:36:54</td>\n",
       "      <td>6067</td>\n",
       "      <td>5665</td>\n",
       "      <td>18</td>\n",
       "      <td>121</td>\n",
       "      <td>2</td>\n",
       "      <td>3.0</td>\n",
       "    </tr>\n",
       "    <tr>\n",
       "      <th>4</th>\n",
       "      <td>2016-05-26 17:06:54</td>\n",
       "      <td>6093</td>\n",
       "      <td>5709</td>\n",
       "      <td>11</td>\n",
       "      <td>2222</td>\n",
       "      <td>5</td>\n",
       "      <td>20.0</td>\n",
       "    </tr>\n",
       "  </tbody>\n",
       "</table>\n",
       "</div>"
      ],
      "text/plain": [
       "             timestamp  txId  userSessionId  team  userId  buyId  price\n",
       "0  2016-05-26 15:36:54  6004           5820     9    1300      2    3.0\n",
       "1  2016-05-26 15:36:54  6005           5775    35     868      4   10.0\n",
       "2  2016-05-26 15:36:54  6006           5679    97     819      5   20.0\n",
       "3  2016-05-26 16:36:54  6067           5665    18     121      2    3.0\n",
       "4  2016-05-26 17:06:54  6093           5709    11    2222      5   20.0"
      ]
     },
     "execution_count": 8,
     "metadata": {},
     "output_type": "execute_result"
    }
   ],
   "source": [
    "buyClicksDF.head(5)"
   ]
  },
  {
   "cell_type": "code",
   "execution_count": 9,
   "id": "bbbaa0c0",
   "metadata": {},
   "outputs": [],
   "source": [
    "buyClicksDF['buyCount'] = 1"
   ]
  },
  {
   "cell_type": "markdown",
   "id": "33d24d79",
   "metadata": {},
   "source": [
    "### Feature Selection\n",
    "\n",
    "For this exercise, we can choose from buyclicksDf,  the 'price' of each app that a user purchases as an attribute that captures user's purchasing behavior. The following command selects 'userid' and 'price' and drops all other columns that we do not want to use at this stage.\n",
    "Then do the same thing for the rest of tables."
   ]
  },
  {
   "cell_type": "code",
   "execution_count": 10,
   "id": "cf3eece9",
   "metadata": {},
   "outputs": [],
   "source": [
    "userPurchases = buyClicksDF[['userId','price']]\n",
    "useradClicks = adclicksDF[['userId','adCount']]\n",
    "userbuyClicks = buyClicksDF[['userId','buyCount']]"
   ]
  },
  {
   "cell_type": "markdown",
   "id": "76d963d6",
   "metadata": {},
   "source": [
    "## Step 2: Training Data Set Creation\n",
    "\n",
    "### Create the first aggregate feature for clustering\n",
    "\n",
    "From each of these single ad-clicks per row, we can now generate total ad clicks per user. Let's pick a user with userid = 3. To find out how many ads this user has clicked overall, we have to find each row that contains userid = 3, and report the total number of such rows.\n",
    "\n",
    "The following commands sum the total number of ads per user in the end, we want to get one row per user, if we are performing clustering over users.\n"
   ]
  },
  {
   "cell_type": "code",
   "execution_count": 11,
   "id": "30a3805e",
   "metadata": {},
   "outputs": [],
   "source": [
    "totalAdClicks = useradClicks.groupby('userId').sum()\n",
    "totalAdClicks = totalAdClicks.reset_index()"
   ]
  },
  {
   "cell_type": "markdown",
   "id": "7274965c",
   "metadata": {},
   "source": [
    "Let us display the first 5 lines of 'totalAdClicks'"
   ]
  },
  {
   "cell_type": "code",
   "execution_count": 12,
   "id": "d58d037d",
   "metadata": {},
   "outputs": [
    {
     "data": {
      "text/html": [
       "<div>\n",
       "<style scoped>\n",
       "    .dataframe tbody tr th:only-of-type {\n",
       "        vertical-align: middle;\n",
       "    }\n",
       "\n",
       "    .dataframe tbody tr th {\n",
       "        vertical-align: top;\n",
       "    }\n",
       "\n",
       "    .dataframe thead th {\n",
       "        text-align: right;\n",
       "    }\n",
       "</style>\n",
       "<table border=\"1\" class=\"dataframe\">\n",
       "  <thead>\n",
       "    <tr style=\"text-align: right;\">\n",
       "      <th></th>\n",
       "      <th>userId</th>\n",
       "      <th>adCount</th>\n",
       "    </tr>\n",
       "  </thead>\n",
       "  <tbody>\n",
       "    <tr>\n",
       "      <th>0</th>\n",
       "      <td>1</td>\n",
       "      <td>44</td>\n",
       "    </tr>\n",
       "    <tr>\n",
       "      <th>1</th>\n",
       "      <td>8</td>\n",
       "      <td>10</td>\n",
       "    </tr>\n",
       "    <tr>\n",
       "      <th>2</th>\n",
       "      <td>9</td>\n",
       "      <td>37</td>\n",
       "    </tr>\n",
       "    <tr>\n",
       "      <th>3</th>\n",
       "      <td>10</td>\n",
       "      <td>19</td>\n",
       "    </tr>\n",
       "    <tr>\n",
       "      <th>4</th>\n",
       "      <td>12</td>\n",
       "      <td>46</td>\n",
       "    </tr>\n",
       "  </tbody>\n",
       "</table>\n",
       "</div>"
      ],
      "text/plain": [
       "   userId  adCount\n",
       "0       1       44\n",
       "1       8       10\n",
       "2       9       37\n",
       "3      10       19\n",
       "4      12       46"
      ]
     },
     "execution_count": 12,
     "metadata": {},
     "output_type": "execute_result"
    }
   ],
   "source": [
    "totalAdClicks.head(n=5)"
   ]
  },
  {
   "cell_type": "markdown",
   "id": "a4896e92",
   "metadata": {},
   "source": [
    "### Create the second aggregate feature for clustering\n",
    "\n",
    "The following commands sum the total number of clicking on buy per user in the end, we want to get one row per user, if we are performing clustering over users."
   ]
  },
  {
   "cell_type": "code",
   "execution_count": 13,
   "id": "8c10a9cc",
   "metadata": {},
   "outputs": [],
   "source": [
    "totalBuyClicks = userbuyClicks.groupby('userId').sum()\n",
    "totalBuyClicks = totalBuyClicks.reset_index()"
   ]
  },
  {
   "cell_type": "markdown",
   "id": "139d77b6",
   "metadata": {},
   "source": [
    "Let us display the first 5 lines of 'totalBuyClicks'"
   ]
  },
  {
   "cell_type": "code",
   "execution_count": 14,
   "id": "796668b4",
   "metadata": {},
   "outputs": [
    {
     "data": {
      "text/html": [
       "<div>\n",
       "<style scoped>\n",
       "    .dataframe tbody tr th:only-of-type {\n",
       "        vertical-align: middle;\n",
       "    }\n",
       "\n",
       "    .dataframe tbody tr th {\n",
       "        vertical-align: top;\n",
       "    }\n",
       "\n",
       "    .dataframe thead th {\n",
       "        text-align: right;\n",
       "    }\n",
       "</style>\n",
       "<table border=\"1\" class=\"dataframe\">\n",
       "  <thead>\n",
       "    <tr style=\"text-align: right;\">\n",
       "      <th></th>\n",
       "      <th>userId</th>\n",
       "      <th>buyCount</th>\n",
       "    </tr>\n",
       "  </thead>\n",
       "  <tbody>\n",
       "    <tr>\n",
       "      <th>0</th>\n",
       "      <td>1</td>\n",
       "      <td>9</td>\n",
       "    </tr>\n",
       "    <tr>\n",
       "      <th>1</th>\n",
       "      <td>8</td>\n",
       "      <td>5</td>\n",
       "    </tr>\n",
       "    <tr>\n",
       "      <th>2</th>\n",
       "      <td>9</td>\n",
       "      <td>6</td>\n",
       "    </tr>\n",
       "    <tr>\n",
       "      <th>3</th>\n",
       "      <td>10</td>\n",
       "      <td>10</td>\n",
       "    </tr>\n",
       "    <tr>\n",
       "      <th>4</th>\n",
       "      <td>12</td>\n",
       "      <td>13</td>\n",
       "    </tr>\n",
       "  </tbody>\n",
       "</table>\n",
       "</div>"
      ],
      "text/plain": [
       "   userId  buyCount\n",
       "0       1         9\n",
       "1       8         5\n",
       "2       9         6\n",
       "3      10        10\n",
       "4      12        13"
      ]
     },
     "execution_count": 14,
     "metadata": {},
     "output_type": "execute_result"
    }
   ],
   "source": [
    "totalBuyClicks.head(n=5)"
   ]
  },
  {
   "cell_type": "markdown",
   "id": "941ca1e4",
   "metadata": {},
   "source": [
    "### Create the third aggregate feature for clustering\n",
    "\n",
    "Similar to what we did for adclicks and buyclicks, here we find out how much money in total did each user spend on buying in-app purchases. As an example, let's pick a user with userId = 9. To find out the total money spent by this user, we have to find each row that contains userId = 9, and report the sum of the column'price' of each product they purchased.\n",
    "\n",
    "The following commands sum the total money spent by each user."
   ]
  },
  {
   "cell_type": "code",
   "execution_count": 15,
   "id": "13a270d4",
   "metadata": {},
   "outputs": [],
   "source": [
    "totalRevenue = userPurchases.groupby('userId').sum()\n",
    "totalRevenue = totalRevenue.reset_index()"
   ]
  },
  {
   "cell_type": "code",
   "execution_count": 16,
   "id": "9b23f682",
   "metadata": {},
   "outputs": [
    {
     "data": {
      "text/html": [
       "<div>\n",
       "<style scoped>\n",
       "    .dataframe tbody tr th:only-of-type {\n",
       "        vertical-align: middle;\n",
       "    }\n",
       "\n",
       "    .dataframe tbody tr th {\n",
       "        vertical-align: top;\n",
       "    }\n",
       "\n",
       "    .dataframe thead th {\n",
       "        text-align: right;\n",
       "    }\n",
       "</style>\n",
       "<table border=\"1\" class=\"dataframe\">\n",
       "  <thead>\n",
       "    <tr style=\"text-align: right;\">\n",
       "      <th></th>\n",
       "      <th>userId</th>\n",
       "      <th>price</th>\n",
       "    </tr>\n",
       "  </thead>\n",
       "  <tbody>\n",
       "    <tr>\n",
       "      <th>0</th>\n",
       "      <td>1</td>\n",
       "      <td>21.0</td>\n",
       "    </tr>\n",
       "    <tr>\n",
       "      <th>1</th>\n",
       "      <td>8</td>\n",
       "      <td>53.0</td>\n",
       "    </tr>\n",
       "    <tr>\n",
       "      <th>2</th>\n",
       "      <td>9</td>\n",
       "      <td>80.0</td>\n",
       "    </tr>\n",
       "    <tr>\n",
       "      <th>3</th>\n",
       "      <td>10</td>\n",
       "      <td>11.0</td>\n",
       "    </tr>\n",
       "    <tr>\n",
       "      <th>4</th>\n",
       "      <td>12</td>\n",
       "      <td>215.0</td>\n",
       "    </tr>\n",
       "  </tbody>\n",
       "</table>\n",
       "</div>"
      ],
      "text/plain": [
       "   userId  price\n",
       "0       1   21.0\n",
       "1       8   53.0\n",
       "2       9   80.0\n",
       "3      10   11.0\n",
       "4      12  215.0"
      ]
     },
     "execution_count": 16,
     "metadata": {},
     "output_type": "execute_result"
    }
   ],
   "source": [
    "totalRevenue.head(n=5)"
   ]
  },
  {
   "cell_type": "markdown",
   "id": "5c3dbfdd",
   "metadata": {},
   "source": [
    "### Merge the three tables\n",
    "\n",
    "We have a table called totalRevenue, where each row contains total money a user (with that 'userId') has spent. We have a table called ads_per_user where each row contains total number of ads a user has clicked. We also have another table called totalBuyClicks where each row contains total number of buy clicking of a user in the game. We will use revenue_per_user, totalAdClicks.\n",
    "\n",
    "Let us combine these three attributes (features) so that each row contains both attributes per user. Let's merge these three tables to get one single table we can use for K-Means clustering."
   ]
  },
  {
   "cell_type": "code",
   "execution_count": 17,
   "id": "d723ee1e",
   "metadata": {},
   "outputs": [],
   "source": [
    "combainDF1 = totalAdClicks.merge(totalRevenue, on='userId')\n",
    "combainDF = combainDF1.merge(totalBuyClicks, on='userId')"
   ]
  },
  {
   "cell_type": "code",
   "execution_count": 18,
   "id": "fe72f0b1",
   "metadata": {},
   "outputs": [
    {
     "data": {
      "text/html": [
       "<div>\n",
       "<style scoped>\n",
       "    .dataframe tbody tr th:only-of-type {\n",
       "        vertical-align: middle;\n",
       "    }\n",
       "\n",
       "    .dataframe tbody tr th {\n",
       "        vertical-align: top;\n",
       "    }\n",
       "\n",
       "    .dataframe thead th {\n",
       "        text-align: right;\n",
       "    }\n",
       "</style>\n",
       "<table border=\"1\" class=\"dataframe\">\n",
       "  <thead>\n",
       "    <tr style=\"text-align: right;\">\n",
       "      <th></th>\n",
       "      <th>userId</th>\n",
       "      <th>adCount</th>\n",
       "      <th>price</th>\n",
       "      <th>buyCount</th>\n",
       "    </tr>\n",
       "  </thead>\n",
       "  <tbody>\n",
       "    <tr>\n",
       "      <th>0</th>\n",
       "      <td>1</td>\n",
       "      <td>44</td>\n",
       "      <td>21.0</td>\n",
       "      <td>9</td>\n",
       "    </tr>\n",
       "    <tr>\n",
       "      <th>1</th>\n",
       "      <td>8</td>\n",
       "      <td>10</td>\n",
       "      <td>53.0</td>\n",
       "      <td>5</td>\n",
       "    </tr>\n",
       "    <tr>\n",
       "      <th>2</th>\n",
       "      <td>9</td>\n",
       "      <td>37</td>\n",
       "      <td>80.0</td>\n",
       "      <td>6</td>\n",
       "    </tr>\n",
       "    <tr>\n",
       "      <th>3</th>\n",
       "      <td>10</td>\n",
       "      <td>19</td>\n",
       "      <td>11.0</td>\n",
       "      <td>10</td>\n",
       "    </tr>\n",
       "    <tr>\n",
       "      <th>4</th>\n",
       "      <td>12</td>\n",
       "      <td>46</td>\n",
       "      <td>215.0</td>\n",
       "      <td>13</td>\n",
       "    </tr>\n",
       "  </tbody>\n",
       "</table>\n",
       "</div>"
      ],
      "text/plain": [
       "   userId  adCount  price  buyCount\n",
       "0       1       44   21.0         9\n",
       "1       8       10   53.0         5\n",
       "2       9       37   80.0         6\n",
       "3      10       19   11.0        10\n",
       "4      12       46  215.0        13"
      ]
     },
     "execution_count": 18,
     "metadata": {},
     "output_type": "execute_result"
    }
   ],
   "source": [
    "combainDF.head(n=5)"
   ]
  },
  {
   "cell_type": "markdown",
   "id": "d49e67b9",
   "metadata": {},
   "source": [
    "### Create the final training dataset\n",
    "\n",
    "Our training data set is almost ready. At this stage we can remove the 'userId' from each row, since 'userId' is a computer generated random number assigned to each user. It does not capture any behavioral aspect of a user. One way to drop the 'userId', is to select the other two columns."
   ]
  },
  {
   "cell_type": "code",
   "execution_count": 19,
   "id": "6564064a",
   "metadata": {},
   "outputs": [
    {
     "data": {
      "text/html": [
       "<div>\n",
       "<style scoped>\n",
       "    .dataframe tbody tr th:only-of-type {\n",
       "        vertical-align: middle;\n",
       "    }\n",
       "\n",
       "    .dataframe tbody tr th {\n",
       "        vertical-align: top;\n",
       "    }\n",
       "\n",
       "    .dataframe thead th {\n",
       "        text-align: right;\n",
       "    }\n",
       "</style>\n",
       "<table border=\"1\" class=\"dataframe\">\n",
       "  <thead>\n",
       "    <tr style=\"text-align: right;\">\n",
       "      <th></th>\n",
       "      <th>adCount</th>\n",
       "      <th>buyCount</th>\n",
       "      <th>price</th>\n",
       "    </tr>\n",
       "  </thead>\n",
       "  <tbody>\n",
       "    <tr>\n",
       "      <th>0</th>\n",
       "      <td>44</td>\n",
       "      <td>9</td>\n",
       "      <td>21.0</td>\n",
       "    </tr>\n",
       "    <tr>\n",
       "      <th>1</th>\n",
       "      <td>10</td>\n",
       "      <td>5</td>\n",
       "      <td>53.0</td>\n",
       "    </tr>\n",
       "    <tr>\n",
       "      <th>2</th>\n",
       "      <td>37</td>\n",
       "      <td>6</td>\n",
       "      <td>80.0</td>\n",
       "    </tr>\n",
       "    <tr>\n",
       "      <th>3</th>\n",
       "      <td>19</td>\n",
       "      <td>10</td>\n",
       "      <td>11.0</td>\n",
       "    </tr>\n",
       "    <tr>\n",
       "      <th>4</th>\n",
       "      <td>46</td>\n",
       "      <td>13</td>\n",
       "      <td>215.0</td>\n",
       "    </tr>\n",
       "  </tbody>\n",
       "</table>\n",
       "</div>"
      ],
      "text/plain": [
       "   adCount  buyCount  price\n",
       "0       44         9   21.0\n",
       "1       10         5   53.0\n",
       "2       37         6   80.0\n",
       "3       19        10   11.0\n",
       "4       46        13  215.0"
      ]
     },
     "execution_count": 19,
     "metadata": {},
     "output_type": "execute_result"
    }
   ],
   "source": [
    "trainingDF = combainDF[['adCount','buyCount','price']] # selecte column\n",
    "trainingDF.head(n=5)"
   ]
  },
  {
   "cell_type": "markdown",
   "id": "a0e307f5",
   "metadata": {},
   "source": [
    "# Rename the columns:"
   ]
  },
  {
   "cell_type": "code",
   "execution_count": 20,
   "id": "9c762a21",
   "metadata": {},
   "outputs": [
    {
     "data": {
      "text/html": [
       "<div>\n",
       "<style scoped>\n",
       "    .dataframe tbody tr th:only-of-type {\n",
       "        vertical-align: middle;\n",
       "    }\n",
       "\n",
       "    .dataframe tbody tr th {\n",
       "        vertical-align: top;\n",
       "    }\n",
       "\n",
       "    .dataframe thead th {\n",
       "        text-align: right;\n",
       "    }\n",
       "</style>\n",
       "<table border=\"1\" class=\"dataframe\">\n",
       "  <thead>\n",
       "    <tr style=\"text-align: right;\">\n",
       "      <th></th>\n",
       "      <th>totalAdClicks</th>\n",
       "      <th>totalBuyClicks</th>\n",
       "      <th>Revenue</th>\n",
       "    </tr>\n",
       "  </thead>\n",
       "  <tbody>\n",
       "    <tr>\n",
       "      <th>0</th>\n",
       "      <td>44</td>\n",
       "      <td>9</td>\n",
       "      <td>21.0</td>\n",
       "    </tr>\n",
       "    <tr>\n",
       "      <th>1</th>\n",
       "      <td>10</td>\n",
       "      <td>5</td>\n",
       "      <td>53.0</td>\n",
       "    </tr>\n",
       "    <tr>\n",
       "      <th>2</th>\n",
       "      <td>37</td>\n",
       "      <td>6</td>\n",
       "      <td>80.0</td>\n",
       "    </tr>\n",
       "    <tr>\n",
       "      <th>3</th>\n",
       "      <td>19</td>\n",
       "      <td>10</td>\n",
       "      <td>11.0</td>\n",
       "    </tr>\n",
       "    <tr>\n",
       "      <th>4</th>\n",
       "      <td>46</td>\n",
       "      <td>13</td>\n",
       "      <td>215.0</td>\n",
       "    </tr>\n",
       "  </tbody>\n",
       "</table>\n",
       "</div>"
      ],
      "text/plain": [
       "   totalAdClicks  totalBuyClicks  Revenue\n",
       "0             44               9     21.0\n",
       "1             10               5     53.0\n",
       "2             37               6     80.0\n",
       "3             19              10     11.0\n",
       "4             46              13    215.0"
      ]
     },
     "execution_count": 20,
     "metadata": {},
     "output_type": "execute_result"
    }
   ],
   "source": [
    "trainingDF.columns = ['totalAdClicks', 'totalBuyClicks', 'Revenue'] # rename the columns\n",
    "trainingDF.head(n=5)"
   ]
  },
  {
   "cell_type": "markdown",
   "id": "627ddd77",
   "metadata": {},
   "source": [
    "### Display the dimensions of the training dataset\n",
    "\n",
    "Display the dimension of the training data set. To display the dimensions of the training_df, simply add `.shape` as a suffix and hit enter."
   ]
  },
  {
   "cell_type": "code",
   "execution_count": 21,
   "id": "69c8e709",
   "metadata": {},
   "outputs": [
    {
     "data": {
      "text/plain": [
       "(543, 3)"
      ]
     },
     "execution_count": 21,
     "metadata": {},
     "output_type": "execute_result"
    }
   ],
   "source": [
    "trainingDF.shape"
   ]
  },
  {
   "cell_type": "markdown",
   "id": "a4187c58",
   "metadata": {},
   "source": [
    "The following two commands convert the tables we created into a format that can be understood by the `KMeans.train` function.\n",
    "\n",
    "line[0] refers to the first column. line[1] refers to the second column. If you have more than 2 columns in your training table, modify this command by adding line[2], line[3], line[4] ..."
   ]
  },
  {
   "cell_type": "code",
   "execution_count": 22,
   "id": "b414a72c",
   "metadata": {},
   "outputs": [
    {
     "name": "stdout",
     "output_type": "stream",
     "text": [
      "Spark 3.1.2\n"
     ]
    }
   ],
   "source": [
    "import pyspark\n",
    "from pyspark.sql import SQLContext\n",
    "from pyspark.sql import SparkSession\n",
    "import findspark\n",
    "findspark.init()\n",
    "print('Spark',pyspark.__version__)\n",
    "spark = SparkSession \\\n",
    "    .builder \\\n",
    "    .appName(\"Python Spark SQL basic example\") \\\n",
    "    .config(\"spark.some.config.option\", \"some-value\") \\\n",
    "    .getOrCreate()"
   ]
  },
  {
   "cell_type": "code",
   "execution_count": 23,
   "id": "2ddfea49",
   "metadata": {},
   "outputs": [],
   "source": [
    "sc = spark.sparkContext\n",
    "sqlContext = SQLContext(sc)\n",
    "p_df = sqlContext.createDataFrame(trainingDF)\n",
    "parsed_data = p_df.rdd.map(lambda line: array([line[0], line[1], line[2]])) #totalAdClicks, totalGameClicks, revenue"
   ]
  },
  {
   "cell_type": "markdown",
   "id": "8e44ff24",
   "metadata": {},
   "source": [
    "## Step 3: Train to Create Cluster Centers\n",
    "\n",
    "### Train KMeans model"
   ]
  },
  {
   "cell_type": "code",
   "execution_count": 24,
   "id": "8cb5900a",
   "metadata": {},
   "outputs": [],
   "source": [
    "km_model = KMeans.train(parsed_data, 3, maxIterations=10, initializationMode=\"random\")"
   ]
  },
  {
   "cell_type": "code",
   "execution_count": 25,
   "id": "42e0e258",
   "metadata": {},
   "outputs": [],
   "source": [
    "headers = trainingDF.columns.values.tolist()\n",
    "centers = [a.tolist() for a in km_model.centers]"
   ]
  },
  {
   "cell_type": "markdown",
   "id": "0d1772bb",
   "metadata": {},
   "source": [
    "### Display the centers of three clusters formed"
   ]
  },
  {
   "cell_type": "code",
   "execution_count": 26,
   "id": "05ec439d",
   "metadata": {},
   "outputs": [
    {
     "data": {
      "text/html": [
       "<div>\n",
       "<style scoped>\n",
       "    .dataframe tbody tr th:only-of-type {\n",
       "        vertical-align: middle;\n",
       "    }\n",
       "\n",
       "    .dataframe tbody tr th {\n",
       "        vertical-align: top;\n",
       "    }\n",
       "\n",
       "    .dataframe thead th {\n",
       "        text-align: right;\n",
       "    }\n",
       "</style>\n",
       "<table border=\"1\" class=\"dataframe\">\n",
       "  <thead>\n",
       "    <tr style=\"text-align: right;\">\n",
       "      <th></th>\n",
       "      <th>totalAdClicks</th>\n",
       "      <th>totalBuyClicks</th>\n",
       "      <th>Revenue</th>\n",
       "    </tr>\n",
       "  </thead>\n",
       "  <tbody>\n",
       "    <tr>\n",
       "      <th>0</th>\n",
       "      <td>40.196429</td>\n",
       "      <td>9.625000</td>\n",
       "      <td>136.821429</td>\n",
       "    </tr>\n",
       "    <tr>\n",
       "      <th>1</th>\n",
       "      <td>25.355224</td>\n",
       "      <td>4.277612</td>\n",
       "      <td>14.767164</td>\n",
       "    </tr>\n",
       "    <tr>\n",
       "      <th>2</th>\n",
       "      <td>34.243421</td>\n",
       "      <td>6.388158</td>\n",
       "      <td>57.618421</td>\n",
       "    </tr>\n",
       "  </tbody>\n",
       "</table>\n",
       "</div>"
      ],
      "text/plain": [
       "   totalAdClicks  totalBuyClicks     Revenue\n",
       "0      40.196429        9.625000  136.821429\n",
       "1      25.355224        4.277612   14.767164\n",
       "2      34.243421        6.388158   57.618421"
      ]
     },
     "execution_count": 26,
     "metadata": {},
     "output_type": "execute_result"
    }
   ],
   "source": [
    "df = pd.DataFrame(centers, columns=headers)\n",
    "df.head()"
   ]
  },
  {
   "cell_type": "code",
   "execution_count": 27,
   "id": "d7dcdb01",
   "metadata": {},
   "outputs": [
    {
     "data": {
      "text/plain": [
       "array([<AxesSubplot:title={'center':'totalAdClicks'}>,\n",
       "       <AxesSubplot:title={'center':'totalBuyClicks'}>,\n",
       "       <AxesSubplot:title={'center':'Revenue'}>], dtype=object)"
      ]
     },
     "execution_count": 27,
     "metadata": {},
     "output_type": "execute_result"
    },
    {
     "data": {
      "image/png": "[encoded data removed]",
      "text/plain": [
       "<Figure size 360x504 with 3 Axes>"
      ]
     },
     "metadata": {
      "needs_background": "light"
     },
     "output_type": "display_data"
    }
   ],
   "source": [
    "%matplotlib inline\n",
    "df.plot(kind='bar',subplots=True, figsize=(5,7), use_index=True)"
   ]
  },
  {
   "cell_type": "markdown",
   "id": "a57dec52",
   "metadata": {},
   "source": [
    "# Optional other way for Clustering\n",
    "\n",
    "## Down thier \n",
    "\n",
    "### Thanks"
   ]
  },
  {
   "cell_type": "code",
   "execution_count": 28,
   "id": "5f72d41d",
   "metadata": {},
   "outputs": [
    {
     "data": {
      "text/plain": [
       "543"
      ]
     },
     "execution_count": 28,
     "metadata": {},
     "output_type": "execute_result"
    }
   ],
   "source": [
    "p_df.count()"
   ]
  },
  {
   "cell_type": "code",
   "execution_count": 29,
   "id": "ee87bc54",
   "metadata": {},
   "outputs": [
    {
     "data": {
      "text/plain": [
       "['totalAdClicks', 'totalBuyClicks', 'Revenue']"
      ]
     },
     "execution_count": 29,
     "metadata": {},
     "output_type": "execute_result"
    }
   ],
   "source": [
    "p_df.columns"
   ]
  },
  {
   "cell_type": "code",
   "execution_count": 30,
   "id": "6d7d07d2",
   "metadata": {},
   "outputs": [
    {
     "data": {
      "text/html": [
       "<div>\n",
       "<style scoped>\n",
       "    .dataframe tbody tr th:only-of-type {\n",
       "        vertical-align: middle;\n",
       "    }\n",
       "\n",
       "    .dataframe tbody tr th {\n",
       "        vertical-align: top;\n",
       "    }\n",
       "\n",
       "    .dataframe thead th {\n",
       "        text-align: right;\n",
       "    }\n",
       "</style>\n",
       "<table border=\"1\" class=\"dataframe\">\n",
       "  <thead>\n",
       "    <tr style=\"text-align: right;\">\n",
       "      <th></th>\n",
       "      <th>0</th>\n",
       "      <th>1</th>\n",
       "      <th>2</th>\n",
       "      <th>3</th>\n",
       "      <th>4</th>\n",
       "    </tr>\n",
       "  </thead>\n",
       "  <tbody>\n",
       "    <tr>\n",
       "      <th>summary</th>\n",
       "      <td>count</td>\n",
       "      <td>mean</td>\n",
       "      <td>stddev</td>\n",
       "      <td>min</td>\n",
       "      <td>max</td>\n",
       "    </tr>\n",
       "    <tr>\n",
       "      <th>totalAdClicks</th>\n",
       "      <td>543</td>\n",
       "      <td>29.373848987108655</td>\n",
       "      <td>15.216343215129635</td>\n",
       "      <td>1</td>\n",
       "      <td>67</td>\n",
       "    </tr>\n",
       "    <tr>\n",
       "      <th>totalBuyClicks</th>\n",
       "      <td>543</td>\n",
       "      <td>5.419889502762431</td>\n",
       "      <td>3.2447133253052716</td>\n",
       "      <td>1</td>\n",
       "      <td>16</td>\n",
       "    </tr>\n",
       "    <tr>\n",
       "      <th>Revenue</th>\n",
       "      <td>543</td>\n",
       "      <td>39.34990791896869</td>\n",
       "      <td>41.22173676708475</td>\n",
       "      <td>1.0</td>\n",
       "      <td>223.0</td>\n",
       "    </tr>\n",
       "  </tbody>\n",
       "</table>\n",
       "</div>"
      ],
      "text/plain": [
       "                    0                   1                   2    3      4\n",
       "summary         count                mean              stddev  min    max\n",
       "totalAdClicks     543  29.373848987108655  15.216343215129635    1     67\n",
       "totalBuyClicks    543   5.419889502762431  3.2447133253052716    1     16\n",
       "Revenue           543   39.34990791896869   41.22173676708475  1.0  223.0"
      ]
     },
     "execution_count": 30,
     "metadata": {},
     "output_type": "execute_result"
    }
   ],
   "source": [
    "p_df.describe().toPandas().transpose()"
   ]
  },
  {
   "cell_type": "code",
   "execution_count": 31,
   "id": "b1ae0179",
   "metadata": {},
   "outputs": [],
   "source": [
    "p_df = p_df.na.drop()"
   ]
  },
  {
   "cell_type": "code",
   "execution_count": 32,
   "id": "53f9ef3e",
   "metadata": {},
   "outputs": [],
   "source": [
    "from pyspark.ml.feature import VectorAssembler\n",
    "from pyspark.ml.feature import StandardScaler"
   ]
  },
  {
   "cell_type": "code",
   "execution_count": 33,
   "id": "cdf12958",
   "metadata": {},
   "outputs": [],
   "source": [
    "featuresUsed = ['totalAdClicks', 'totalBuyClicks', 'Revenue']\n",
    "assembler = VectorAssembler(inputCols=featuresUsed, outputCol=\"features_unscaled\")\n",
    "assembled = assembler.transform(p_df)"
   ]
  },
  {
   "cell_type": "code",
   "execution_count": 34,
   "id": "3e3c5706",
   "metadata": {},
   "outputs": [],
   "source": [
    "scaler = StandardScaler(inputCol=\"features_unscaled\", outputCol=\"features\", withStd=True, withMean=True)\n",
    "scalerModel = scaler.fit(assembled)\n",
    "scaledData = scalerModel.transform(assembled)"
   ]
  },
  {
   "cell_type": "code",
   "execution_count": 35,
   "id": "162073e6",
   "metadata": {},
   "outputs": [
    {
     "data": {
      "text/plain": [
       "DataFrame[features: vector]"
      ]
     },
     "execution_count": 35,
     "metadata": {},
     "output_type": "execute_result"
    }
   ],
   "source": [
    "scaledData = scaledData.select(\"features\")\n",
    "scaledData.persist()"
   ]
  },
  {
   "cell_type": "code",
   "execution_count": 36,
   "id": "56ed7a74",
   "metadata": {},
   "outputs": [],
   "source": [
    "from pyspark.ml.clustering import KMeans"
   ]
  },
  {
   "cell_type": "code",
   "execution_count": 37,
   "id": "498751d1",
   "metadata": {},
   "outputs": [],
   "source": [
    "kmeans = KMeans(k=3, seed=1)  # 3 clusters here\n",
    "model = kmeans.fit(scaledData.select('features'))"
   ]
  },
  {
   "cell_type": "code",
   "execution_count": 38,
   "id": "d8519575",
   "metadata": {},
   "outputs": [
    {
     "name": "stdout",
     "output_type": "stream",
     "text": [
      "+--------------------+----------+\n",
      "|            features|prediction|\n",
      "+--------------------+----------+\n",
      "|[0.96121326958165...|         1|\n",
      "|[-1.2732263404682...|         0|\n",
      "|[0.50118158515961...|         1|\n",
      "|[-0.6817570319256...|         1|\n",
      "|[1.09265089370223...|         2|\n",
      "|[-0.8789134681065...|         0|\n",
      "|[-0.9446322801668...|         0|\n",
      "|[1.48696376606398...|         1|\n",
      "|[-1.3389451525285...|         0|\n",
      "|[-1.2732263404682...|         0|\n",
      "|[-0.6160382198653...|         0|\n",
      "|[0.30402514897873...|         2|\n",
      "|[-0.0245689113227...|         0|\n",
      "|[1.09265089370223...|         1|\n",
      "|[0.56690039721990...|         1|\n",
      "|[0.23830633691844...|         1|\n",
      "|[-1.6018204007697...|         0|\n",
      "|[0.69833802134048...|         1|\n",
      "|[1.48696376606398...|         1|\n",
      "|[-1.3389451525285...|         0|\n",
      "+--------------------+----------+\n",
      "only showing top 20 rows\n",
      "\n"
     ]
    }
   ],
   "source": [
    "transformed = model.transform(scaledData)\n",
    "transformed.show()  "
   ]
  },
  {
   "cell_type": "code",
   "execution_count": 39,
   "id": "3e64b8c6",
   "metadata": {},
   "outputs": [
    {
     "data": {
      "text/plain": [
       "[array([-0.87226487, -0.75059133, -0.45610086]),\n",
       " array([ 0.79264304,  0.50771051, -0.1042192 ]),\n",
       " array([0.75258212, 1.26480204, 2.22950481])]"
      ]
     },
     "execution_count": 39,
     "metadata": {},
     "output_type": "execute_result"
    }
   ],
   "source": [
    "centers = model.clusterCenters()\n",
    "centers"
   ]
  },
  {
   "cell_type": "markdown",
   "id": "151225b4",
   "metadata": {},
   "source": [
    "# Remember To:\n",
    "\n",
    "Download Apache Spark with winutils.exe\n",
    "Download & Install Anaconda Distribution\n",
    "Install Java using command:\n",
    "### conda install openjdk\n",
    "Install PySpark using command:\n",
    "### conda install pyspark\n",
    "Install FindSpark using command:\n",
    "### conda install -c conda-forge findspark\n",
    "Validate PySpark Installation from pyspark shell\n",
    "PySpark in Jupyter notebook\n",
    "Run PySpark from IDE\n",
    "\n",
    "## Source can use:\n",
    "https://changhsinlee.com/install-pyspark-windows-jupyter/\n",
    "https://sparkbyexamples.com/pyspark/install-pyspark-in-anaconda-jupyter-notebook/"
   ]
  }
 ],
 "metadata": {
  "kernelspec": {
   "display_name": "Python 3 (ipykernel)",
   "language": "python",
   "name": "python3"
  },
  "language_info": {
   "codemirror_mode": {
    "name": "ipython",
    "version": 3
   },
   "file_extension": ".py",
   "mimetype": "text/x-python",
   "name": "python",
   "nbconvert_exporter": "python",
   "pygments_lexer": "ipython3",
   "version": "3.9.7"
  }
 },
 "nbformat": 4,
 "nbformat_minor": 5
}
